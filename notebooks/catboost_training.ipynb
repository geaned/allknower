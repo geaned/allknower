{
 "cells": [
  {
   "cell_type": "code",
   "execution_count": 1,
   "id": "fb7d97f9-8f75-4a0a-bd86-410be4f67017",
   "metadata": {},
   "outputs": [],
   "source": [
    "from catboost import CatBoostRanker, Pool#MetricVisualizer\n",
    "from copy import deepcopy\n",
    "import numpy as np\n",
    "import os\n",
    "import pandas as pd"
   ]
  },
  {
   "cell_type": "code",
   "execution_count": 3,
   "id": "b0f712e3-9958-46d5-9965-daf885363a41",
   "metadata": {},
   "outputs": [],
   "source": [
    "train_data = pd.read_csv(\"wikir_en1k_training_preprocessed_light.csv\")\n",
    "val_data = pd.read_csv(\"wikir_en1k_validation_preprocessed_light.csv\")"
   ]
  },
  {
   "cell_type": "code",
   "execution_count": 4,
   "id": "730efd45-cc74-4b48-a4cd-dd0df4e96f82",
   "metadata": {},
   "outputs": [],
   "source": [
    "X_train = train_data.values[:, [2, *list(range(4, 21))]]\n",
    "y_train = train_data.values[:, 3]\n",
    "queries_train = train_data.values[:, 0].astype(int)\n",
    "X_val = val_data.values[:, [2, *list(range(4, 21))]]\n",
    "y_val = val_data.values[:, 3]\n",
    "queries_val = val_data.values[:, 0].astype(int)"
   ]
  },
  {
   "cell_type": "code",
   "execution_count": 5,
   "id": "30466aaf-27e5-486a-a826-2d25a25abb42",
   "metadata": {},
   "outputs": [],
   "source": [
    "train_pool = Pool(\n",
    "    data=X_train,\n",
    "    label=y_train,\n",
    "    group_id=queries_train,\n",
    ")\n",
    "\n",
    "val_pool = Pool(\n",
    "    data=X_val,\n",
    "    label=y_val,\n",
    "    group_id=queries_val,\n",
    ")"
   ]
  },
  {
   "cell_type": "code",
   "execution_count": 6,
   "id": "20b50156-5f1d-46cc-b5c1-f2acc3c754b8",
   "metadata": {},
   "outputs": [],
   "source": [
    "default_parameters = {\n",
    "    \"iterations\": 2000,\n",
    "    \"custom_metric\": [\n",
    "        \"PrecisionAt:top=5\", \n",
    "        \"PrecisionAt:top=10\", \n",
    "        \"PrecisionAt:top=20\", \n",
    "        \"NDCG:top=5\", \n",
    "        \"NDCG:top=10\",\n",
    "        \"NDCG:top=20\",\n",
    "        \"NDCG\",\n",
    "        \"MAP\",\n",
    "    ],\n",
    "    \"verbose\": False,\n",
    "    \"random_seed\": 42,\n",
    "}\n",
    "\n",
    "parameters = {}"
   ]
  },
  {
   "cell_type": "code",
   "execution_count": 7,
   "id": "3c581f3f-72d9-4726-bbff-dbd9a7c87ebe",
   "metadata": {},
   "outputs": [],
   "source": [
    "def fit_model(loss_function, additional_params=None, train_pool=train_pool, test_pool=val_pool):\n",
    "    parameters = deepcopy(default_parameters)\n",
    "    parameters[\"loss_function\"] = loss_function\n",
    "    parameters[\"train_dir\"] = loss_function\n",
    "\n",
    "    if additional_params is not None:\n",
    "        parameters.update(additional_params)\n",
    "\n",
    "    model = CatBoostRanker(**parameters)\n",
    "    model.fit(train_pool, eval_set=test_pool, plot=True)\n",
    "\n",
    "    return model"
   ]
  },
  {
   "cell_type": "code",
   "execution_count": 8,
   "id": "4aff974a-eba8-4ee2-b90a-f47b9442acd4",
   "metadata": {},
   "outputs": [
    {
     "data": {
      "application/vnd.jupyter.widget-view+json": {
       "model_id": "5f46d1a8ff5e42bb909b2a6b35f4f225",
       "version_major": 2,
       "version_minor": 0
      },
      "text/plain": [
       "MetricVisualizer(layout=Layout(align_self='stretch', height='500px'))"
      ]
     },
     "metadata": {},
     "output_type": "display_data"
    }
   ],
   "source": [
    "model = fit_model(\"QueryRMSE\")"
   ]
  },
  {
   "cell_type": "code",
   "execution_count": 9,
   "id": "8f8337bd-4983-4c44-b76d-12b0764829c7",
   "metadata": {},
   "outputs": [],
   "source": [
    "# metric: best_value\n",
    "# Precision@5: 0.122\n",
    "# Precision@10: 0.071\n",
    "# Precision@20: 0.0405\n",
    "# NDCG@5: 0.783\n",
    "# NDCG@10: 0.789\n",
    "# NDCG@20: 0.795\n",
    "# NDCG: 0.865\n",
    "# MAP: 0.428"
   ]
  }
 ],
 "metadata": {
  "kernelspec": {
   "display_name": "Python 3 (ipykernel)",
   "language": "python",
   "name": "python3"
  },
  "language_info": {
   "codemirror_mode": {
    "name": "ipython",
    "version": 3
   },
   "file_extension": ".py",
   "mimetype": "text/x-python",
   "name": "python",
   "nbconvert_exporter": "python",
   "pygments_lexer": "ipython3",
   "version": "3.12.5"
  }
 },
 "nbformat": 4,
 "nbformat_minor": 5
}
