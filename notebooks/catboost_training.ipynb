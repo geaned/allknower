{
    "cells": [
        {
            "cell_type": "code",
            "execution_count": 1,
            "id": "fb7d97f9-8f75-4a0a-bd86-410be4f67017",
            "metadata": {},
            "outputs": [],
            "source": [
                "import json\n",
                "\n",
                "import pandas as pd\n",
                "from catboost import CatBoostRanker, Pool\n",
                "from sklearn.model_selection import ParameterGrid\n",
                "from tqdm import tqdm"
            ]
        },
        {
            "cell_type": "code",
            "execution_count": 2,
            "id": "b0f712e3-9958-46d5-9965-daf885363a41",
            "metadata": {},
            "outputs": [],
            "source": [
                "train_data = pd.read_csv(\"wikir_en78k_training_preprocessed_light.csv\")\n",
                "val_data = pd.read_csv(\"wikir_en78k_validation_preprocessed_light.csv\")\n",
                "# test_data = pd.read_csv(\"wikir_en78k_test_preprocessed_light.csv\")"
            ]
        },
        {
            "cell_type": "code",
            "execution_count": 3,
            "id": "0a64731d-49a2-4912-97dc-aa799439c670",
            "metadata": {},
            "outputs": [],
            "source": [
                "# this is max value that can handle CatboostRanker with YetiRank loss on GPU\n",
                "MAX_DOCS_PER_QUERY = 1023\n",
                "\n",
                "train_data = (\n",
                "    train_data.sort_values(\n",
                "        by=[\"query_id\", \"relevance\"], ascending=[True, False], kind=\"stable\"\n",
                "    )\n",
                "    .groupby(\"query_id\")\n",
                "    .head(MAX_DOCS_PER_QUERY)\n",
                ")\n",
                "val_data = (\n",
                "    val_data.sort_values(\n",
                "        by=[\"query_id\", \"relevance\"], ascending=[True, False], kind=\"stable\"\n",
                "    )\n",
                "    .groupby(\"query_id\")\n",
                "    .head(MAX_DOCS_PER_QUERY)\n",
                ")"
            ]
        },
        {
            "cell_type": "code",
            "execution_count": 4,
            "id": "730efd45-cc74-4b48-a4cd-dd0df4e96f82",
            "metadata": {},
            "outputs": [],
            "source": [
                "X_train = train_data.values[:, list(range(4, 21))]\n",
                "y_train = train_data.values[:, 3]\n",
                "queries_train = train_data.values[:, 0].astype(int)\n",
                "X_val = val_data.values[:, list(range(4, 21))]\n",
                "y_val = val_data.values[:, 3]\n",
                "queries_val = val_data.values[:, 0].astype(int)"
            ]
        },
        {
            "cell_type": "code",
            "execution_count": 5,
            "id": "30466aaf-27e5-486a-a826-2d25a25abb42",
            "metadata": {},
            "outputs": [],
            "source": [
                "train_pool = Pool(data=X_train, label=y_train, group_id=queries_train)\n",
                "\n",
                "val_pool = Pool(data=X_val, label=y_val, group_id=queries_val)"
            ]
        },
        {
            "cell_type": "code",
            "execution_count": 10,
            "id": "20b50156-5f1d-46cc-b5c1-f2acc3c754b8",
            "metadata": {},
            "outputs": [],
            "source": [
                "default_parameters = {\n",
                "    \"iterations\": 2000,\n",
                "    \"custom_metric\": [\n",
                "        \"PrecisionAt:top=5\",\n",
                "        \"PrecisionAt:top=10\",\n",
                "        \"PrecisionAt:top=20\",\n",
                "        \"NDCG:top=5\",\n",
                "        \"NDCG:top=10\",\n",
                "        \"NDCG:top=20\",\n",
                "        \"NDCG\",\n",
                "        \"MAP\",\n",
                "    ],\n",
                "    \"verbose\": False,\n",
                "    \"random_seed\": 42,\n",
                "    \"task_type\": \"GPU\",\n",
                "    \"devices\": \"0:1\",\n",
                "    \"gpu_ram_part\": 0.95,\n",
                "    # \"loss_function\": \"YetiRankPairwise\",\n",
                "    \"depth\": 8,\n",
                "    \"l2_leaf_reg\": 5,\n",
                "    \"random_strength\": 1,\n",
                "}"
            ]
        },
        {
            "cell_type": "code",
            "execution_count": null,
            "id": "9a5bc2c4-3925-4420-8932-a7f7a2e1d275",
            "metadata": {},
            "outputs": [],
            "source": [
                "model = CatBoostRanker(**default_parameters, **params)\n",
                "model.fit(train_pool, eval_set=val_pool, plot=False)"
            ]
        },
        {
            "cell_type": "code",
            "execution_count": 7,
            "id": "2053ef53-f8f6-4364-9161-8f373fdba075",
            "metadata": {},
            "outputs": [],
            "source": [
                "param_grid = {\n",
                "    # \"iterations\": [1000, 2000, 4000],\n",
                "    # \"learning_rate\": [10 ** (-i) for i in range(5)],\n",
                "    \"depth\": [4, 6, 8],\n",
                "    \"l2_leaf_reg\": [1, 3, 5],\n",
                "    \"random_strength\": [0.1, 0.5, 1.0],\n",
                "    \"loss_function\": [\"PairLogit:max_pairs=100000\", \"QueryRMSE\", \"YetiRank\"],\n",
                "}"
            ]
        },
        {
            "cell_type": "code",
            "execution_count": 8,
            "id": "edc5701d-590d-48b3-aa02-c4f23dae31f8",
            "metadata": {},
            "outputs": [],
            "source": [
                "param_combinations = list(ParameterGrid(param_grid))"
            ]
        },
        {
            "cell_type": "code",
            "execution_count": 9,
            "id": "205c4b85-8131-4da8-82b6-23428237a760",
            "metadata": {},
            "outputs": [
                {
                    "name": "stderr",
                    "output_type": "stream",
                    "text": [
                        "  0%|                                                                                                                                                     | 0/81 [00:00<?, ?it/s]Default metric period is 5 because PrecisionAt, MAP, NDCG is/are not implemented for GPU\n",
                        "Metric PrecisionAt:top=5 is not implemented on GPU. Will use CPU for metric computation, this could significantly affect learning time\n",
                        "Metric PrecisionAt:top=10 is not implemented on GPU. Will use CPU for metric computation, this could significantly affect learning time\n",
                        "Metric PrecisionAt:top=20 is not implemented on GPU. Will use CPU for metric computation, this could significantly affect learning time\n",
                        "Metric NDCG:top=5;type=Base is not implemented on GPU. Will use CPU for metric computation, this could significantly affect learning time\n",
                        "Metric NDCG:top=10;type=Base is not implemented on GPU. Will use CPU for metric computation, this could significantly affect learning time\n",
                        "Metric NDCG:top=20;type=Base is not implemented on GPU. Will use CPU for metric computation, this could significantly affect learning time\n",
                        "Metric NDCG:type=Base is not implemented on GPU. Will use CPU for metric computation, this could significantly affect learning time\n",
                        "Metric MAP is not implemented on GPU. Will use CPU for metric computation, this could significantly affect learning time\n",
                        "  1%|\u2588\u258b                                                                                                                                        | 1/81 [05:38<7:31:09, 338.37s/it]Default metric period is 5 because PrecisionAt, MAP, NDCG is/are not implemented for GPU\n",
                        "Metric PrecisionAt:top=5 is not implemented on GPU. Will use CPU for metric computation, this could significantly affect learning time\n",
                        "Metric PrecisionAt:top=10 is not implemented on GPU. Will use CPU for metric computation, this could significantly affect learning time\n",
                        "Metric PrecisionAt:top=20 is not implemented on GPU. Will use CPU for metric computation, this could significantly affect learning time\n",
                        "Metric NDCG:top=5;type=Base is not implemented on GPU. Will use CPU for metric computation, this could significantly affect learning time\n",
                        "Metric NDCG:top=10;type=Base is not implemented on GPU. Will use CPU for metric computation, this could significantly affect learning time\n",
                        "Metric NDCG:top=20;type=Base is not implemented on GPU. Will use CPU for metric computation, this could significantly affect learning time\n",
                        "Metric NDCG:type=Base is not implemented on GPU. Will use CPU for metric computation, this could significantly affect learning time\n",
                        "Metric MAP is not implemented on GPU. Will use CPU for metric computation, this could significantly affect learning time\n",
                        "  1%|\u2588\u258b                                                                                                                                        | 1/81 [06:30<8:40:47, 390.59s/it]\n"
                    ]
                },
                {
                    "ename": "KeyboardInterrupt",
                    "evalue": "",
                    "output_type": "error",
                    "traceback": [
                        "\u001b[0;31m---------------------------------------------------------------------------\u001b[0m",
                        "\u001b[0;31mKeyboardInterrupt\u001b[0m                         Traceback (most recent call last)",
                        "Cell \u001b[0;32mIn[9], line 5\u001b[0m\n\u001b[1;32m      3\u001b[0m \u001b[38;5;28;01mfor\u001b[39;00m params \u001b[38;5;129;01min\u001b[39;00m tqdm(param_combinations):\n\u001b[1;32m      4\u001b[0m     model \u001b[38;5;241m=\u001b[39m CatBoostRanker(\u001b[38;5;241m*\u001b[39m\u001b[38;5;241m*\u001b[39mdefault_parameters, \u001b[38;5;241m*\u001b[39m\u001b[38;5;241m*\u001b[39mparams)\n\u001b[0;32m----> 5\u001b[0m     \u001b[43mmodel\u001b[49m\u001b[38;5;241;43m.\u001b[39;49m\u001b[43mfit\u001b[49m\u001b[43m(\u001b[49m\u001b[43mtrain_pool\u001b[49m\u001b[43m,\u001b[49m\u001b[43m \u001b[49m\u001b[43meval_set\u001b[49m\u001b[38;5;241;43m=\u001b[39;49m\u001b[43mval_pool\u001b[49m\u001b[43m,\u001b[49m\u001b[43m \u001b[49m\u001b[43mplot\u001b[49m\u001b[38;5;241;43m=\u001b[39;49m\u001b[38;5;28;43;01mFalse\u001b[39;49;00m\u001b[43m)\u001b[49m\n\u001b[1;32m      6\u001b[0m     results\u001b[38;5;241m.\u001b[39mappend(params \u001b[38;5;241m|\u001b[39m model\u001b[38;5;241m.\u001b[39mget_best_score())\n\u001b[1;32m      7\u001b[0m     \u001b[38;5;28;01mwith\u001b[39;00m \u001b[38;5;28mopen\u001b[39m(\u001b[38;5;124m\"\u001b[39m\u001b[38;5;124m./wikir_catboost_training_report.json\u001b[39m\u001b[38;5;124m\"\u001b[39m, \u001b[38;5;124m\"\u001b[39m\u001b[38;5;124mw\u001b[39m\u001b[38;5;124m\"\u001b[39m) \u001b[38;5;28;01mas\u001b[39;00m f:\n",
                        "File \u001b[0;32m/storage/kliffeup/conda_envs/allknower/lib/python3.12/site-packages/catboost/core.py:6283\u001b[0m, in \u001b[0;36mCatBoostRanker.fit\u001b[0;34m(self, X, y, group_id, cat_features, text_features, embedding_features, pairs, graph, sample_weight, group_weight, subgroup_id, pairs_weight, baseline, use_best_model, eval_set, verbose, logging_level, plot, plot_file, column_description, verbose_eval, metric_period, silent, early_stopping_rounds, save_snapshot, snapshot_file, snapshot_interval, init_model, callbacks, log_cout, log_cerr)\u001b[0m\n\u001b[1;32m   6280\u001b[0m \u001b[38;5;28;01mif\u001b[39;00m \u001b[38;5;124m'\u001b[39m\u001b[38;5;124mloss_function\u001b[39m\u001b[38;5;124m'\u001b[39m \u001b[38;5;129;01min\u001b[39;00m params:\n\u001b[1;32m   6281\u001b[0m     CatBoostRanker\u001b[38;5;241m.\u001b[39m_check_is_compatible_loss(params[\u001b[38;5;124m'\u001b[39m\u001b[38;5;124mloss_function\u001b[39m\u001b[38;5;124m'\u001b[39m])\n\u001b[0;32m-> 6283\u001b[0m \u001b[38;5;28;43mself\u001b[39;49m\u001b[38;5;241;43m.\u001b[39;49m\u001b[43m_fit\u001b[49m\u001b[43m(\u001b[49m\u001b[43mX\u001b[49m\u001b[43m,\u001b[49m\u001b[43m \u001b[49m\u001b[43my\u001b[49m\u001b[43m,\u001b[49m\u001b[43m \u001b[49m\u001b[43mcat_features\u001b[49m\u001b[43m,\u001b[49m\u001b[43m \u001b[49m\u001b[43mtext_features\u001b[49m\u001b[43m,\u001b[49m\u001b[43m \u001b[49m\u001b[43membedding_features\u001b[49m\u001b[43m,\u001b[49m\u001b[43m \u001b[49m\u001b[43mpairs\u001b[49m\u001b[43m,\u001b[49m\u001b[43m \u001b[49m\u001b[43mgraph\u001b[49m\u001b[43m,\u001b[49m\n\u001b[1;32m   6284\u001b[0m \u001b[43m          \u001b[49m\u001b[43msample_weight\u001b[49m\u001b[43m,\u001b[49m\u001b[43m \u001b[49m\u001b[43mgroup_id\u001b[49m\u001b[43m,\u001b[49m\u001b[43m \u001b[49m\u001b[43mgroup_weight\u001b[49m\u001b[43m,\u001b[49m\u001b[43m \u001b[49m\u001b[43msubgroup_id\u001b[49m\u001b[43m,\u001b[49m\u001b[43m \u001b[49m\u001b[43mpairs_weight\u001b[49m\u001b[43m,\u001b[49m\u001b[43m \u001b[49m\u001b[43mbaseline\u001b[49m\u001b[43m,\u001b[49m\u001b[43m \u001b[49m\u001b[43muse_best_model\u001b[49m\u001b[43m,\u001b[49m\n\u001b[1;32m   6285\u001b[0m \u001b[43m          \u001b[49m\u001b[43meval_set\u001b[49m\u001b[43m,\u001b[49m\u001b[43m \u001b[49m\u001b[43mverbose\u001b[49m\u001b[43m,\u001b[49m\u001b[43m \u001b[49m\u001b[43mlogging_level\u001b[49m\u001b[43m,\u001b[49m\u001b[43m \u001b[49m\u001b[43mplot\u001b[49m\u001b[43m,\u001b[49m\u001b[43m \u001b[49m\u001b[43mplot_file\u001b[49m\u001b[43m,\u001b[49m\u001b[43m \u001b[49m\u001b[43mcolumn_description\u001b[49m\u001b[43m,\u001b[49m\u001b[43m \u001b[49m\u001b[43mverbose_eval\u001b[49m\u001b[43m,\u001b[49m\u001b[43m \u001b[49m\u001b[43mmetric_period\u001b[49m\u001b[43m,\u001b[49m\n\u001b[1;32m   6286\u001b[0m \u001b[43m          \u001b[49m\u001b[43msilent\u001b[49m\u001b[43m,\u001b[49m\u001b[43m \u001b[49m\u001b[43mearly_stopping_rounds\u001b[49m\u001b[43m,\u001b[49m\u001b[43m \u001b[49m\u001b[43msave_snapshot\u001b[49m\u001b[43m,\u001b[49m\u001b[43m \u001b[49m\u001b[43msnapshot_file\u001b[49m\u001b[43m,\u001b[49m\u001b[43m \u001b[49m\u001b[43msnapshot_interval\u001b[49m\u001b[43m,\u001b[49m\u001b[43m \u001b[49m\u001b[43minit_model\u001b[49m\u001b[43m,\u001b[49m\u001b[43m \u001b[49m\u001b[43mcallbacks\u001b[49m\u001b[43m,\u001b[49m\u001b[43m \u001b[49m\u001b[43mlog_cout\u001b[49m\u001b[43m,\u001b[49m\u001b[43m \u001b[49m\u001b[43mlog_cerr\u001b[49m\u001b[43m)\u001b[49m\n\u001b[1;32m   6287\u001b[0m \u001b[38;5;28;01mreturn\u001b[39;00m \u001b[38;5;28mself\u001b[39m\n",
                        "File \u001b[0;32m/storage/kliffeup/conda_envs/allknower/lib/python3.12/site-packages/catboost/core.py:2410\u001b[0m, in \u001b[0;36mCatBoost._fit\u001b[0;34m(self, X, y, cat_features, text_features, embedding_features, pairs, graph, sample_weight, group_id, group_weight, subgroup_id, pairs_weight, baseline, use_best_model, eval_set, verbose, logging_level, plot, plot_file, column_description, verbose_eval, metric_period, silent, early_stopping_rounds, save_snapshot, snapshot_file, snapshot_interval, init_model, callbacks, log_cout, log_cerr)\u001b[0m\n\u001b[1;32m   2407\u001b[0m allow_clear_pool \u001b[38;5;241m=\u001b[39m train_params[\u001b[38;5;124m\"\u001b[39m\u001b[38;5;124mallow_clear_pool\u001b[39m\u001b[38;5;124m\"\u001b[39m]\n\u001b[1;32m   2409\u001b[0m \u001b[38;5;28;01mwith\u001b[39;00m plot_wrapper(plot, plot_file, \u001b[38;5;124m'\u001b[39m\u001b[38;5;124mTraining plots\u001b[39m\u001b[38;5;124m'\u001b[39m, [_get_train_dir(\u001b[38;5;28mself\u001b[39m\u001b[38;5;241m.\u001b[39mget_params())]):\n\u001b[0;32m-> 2410\u001b[0m     \u001b[38;5;28;43mself\u001b[39;49m\u001b[38;5;241;43m.\u001b[39;49m\u001b[43m_train\u001b[49m\u001b[43m(\u001b[49m\n\u001b[1;32m   2411\u001b[0m \u001b[43m        \u001b[49m\u001b[43mtrain_pool\u001b[49m\u001b[43m,\u001b[49m\n\u001b[1;32m   2412\u001b[0m \u001b[43m        \u001b[49m\u001b[43mtrain_params\u001b[49m\u001b[43m[\u001b[49m\u001b[38;5;124;43m\"\u001b[39;49m\u001b[38;5;124;43meval_sets\u001b[39;49m\u001b[38;5;124;43m\"\u001b[39;49m\u001b[43m]\u001b[49m\u001b[43m,\u001b[49m\n\u001b[1;32m   2413\u001b[0m \u001b[43m        \u001b[49m\u001b[43mparams\u001b[49m\u001b[43m,\u001b[49m\n\u001b[1;32m   2414\u001b[0m \u001b[43m        \u001b[49m\u001b[43mallow_clear_pool\u001b[49m\u001b[43m,\u001b[49m\n\u001b[1;32m   2415\u001b[0m \u001b[43m        \u001b[49m\u001b[43mtrain_params\u001b[49m\u001b[43m[\u001b[49m\u001b[38;5;124;43m\"\u001b[39;49m\u001b[38;5;124;43minit_model\u001b[39;49m\u001b[38;5;124;43m\"\u001b[39;49m\u001b[43m]\u001b[49m\n\u001b[1;32m   2416\u001b[0m \u001b[43m    \u001b[49m\u001b[43m)\u001b[49m\n\u001b[1;32m   2418\u001b[0m \u001b[38;5;66;03m# Have property feature_importance possibly set\u001b[39;00m\n\u001b[1;32m   2419\u001b[0m loss \u001b[38;5;241m=\u001b[39m \u001b[38;5;28mself\u001b[39m\u001b[38;5;241m.\u001b[39m_object\u001b[38;5;241m.\u001b[39m_get_loss_function_name()\n",
                        "File \u001b[0;32m/storage/kliffeup/conda_envs/allknower/lib/python3.12/site-packages/catboost/core.py:1790\u001b[0m, in \u001b[0;36m_CatBoostBase._train\u001b[0;34m(self, train_pool, test_pool, params, allow_clear_pool, init_model)\u001b[0m\n\u001b[1;32m   1789\u001b[0m \u001b[38;5;28;01mdef\u001b[39;00m \u001b[38;5;21m_train\u001b[39m(\u001b[38;5;28mself\u001b[39m, train_pool, test_pool, params, allow_clear_pool, init_model):\n\u001b[0;32m-> 1790\u001b[0m     \u001b[38;5;28;43mself\u001b[39;49m\u001b[38;5;241;43m.\u001b[39;49m\u001b[43m_object\u001b[49m\u001b[38;5;241;43m.\u001b[39;49m\u001b[43m_train\u001b[49m\u001b[43m(\u001b[49m\u001b[43mtrain_pool\u001b[49m\u001b[43m,\u001b[49m\u001b[43m \u001b[49m\u001b[43mtest_pool\u001b[49m\u001b[43m,\u001b[49m\u001b[43m \u001b[49m\u001b[43mparams\u001b[49m\u001b[43m,\u001b[49m\u001b[43m \u001b[49m\u001b[43mallow_clear_pool\u001b[49m\u001b[43m,\u001b[49m\u001b[43m \u001b[49m\u001b[43minit_model\u001b[49m\u001b[38;5;241;43m.\u001b[39;49m\u001b[43m_object\u001b[49m\u001b[43m \u001b[49m\u001b[38;5;28;43;01mif\u001b[39;49;00m\u001b[43m \u001b[49m\u001b[43minit_model\u001b[49m\u001b[43m \u001b[49m\u001b[38;5;28;43;01melse\u001b[39;49;00m\u001b[43m \u001b[49m\u001b[38;5;28;43;01mNone\u001b[39;49;00m\u001b[43m)\u001b[49m\n\u001b[1;32m   1791\u001b[0m     \u001b[38;5;28mself\u001b[39m\u001b[38;5;241m.\u001b[39m_set_trained_model_attributes()\n",
                        "File \u001b[0;32m_catboost.pyx:5017\u001b[0m, in \u001b[0;36m_catboost._CatBoost._train\u001b[0;34m()\u001b[0m\n",
                        "File \u001b[0;32m_catboost.pyx:5066\u001b[0m, in \u001b[0;36m_catboost._CatBoost._train\u001b[0;34m()\u001b[0m\n",
                        "\u001b[0;31mKeyboardInterrupt\u001b[0m: "
                    ]
                }
            ],
            "source": [
                "results = []\n",
                "\n",
                "for params in tqdm(param_combinations):\n",
                "    model = CatBoostRanker(**default_parameters, **params)\n",
                "    model.fit(train_pool, eval_set=val_pool, plot=False)\n",
                "    results.append(params | model.get_best_score())\n",
                "    with open(\"./wikir_catboost_training_report.json\", \"w\") as f:\n",
                "        json.dump(results, f, indent=4)"
            ]
        },
        {
            "cell_type": "code",
            "execution_count": null,
            "id": "4d302d7d-20ef-4d95-b438-bc2bea4422dd",
            "metadata": {},
            "outputs": [],
            "source": []
        }
    ],
    "metadata": {
        "kernelspec": {
            "display_name": "Python 3 (ipykernel)",
            "language": "python",
            "name": "python3"
        },
        "language_info": {
            "codemirror_mode": {
                "name": "ipython",
                "version": 3
            },
            "file_extension": ".py",
            "mimetype": "text/x-python",
            "name": "python",
            "nbconvert_exporter": "python",
            "pygments_lexer": "ipython3",
            "version": "3.12.5"
        }
    },
    "nbformat": 4,
    "nbformat_minor": 5
}
