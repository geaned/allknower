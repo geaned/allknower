{
 "cells": [
  {
   "cell_type": "code",
   "execution_count": 7,
   "id": "906c11b9-423b-4b9f-a81b-631bef7c1427",
   "metadata": {},
   "outputs": [],
   "source": [
    "import ir_datasets"
   ]
  },
  {
   "cell_type": "code",
   "execution_count": 8,
   "id": "de3072d7-5e33-490e-abae-d7729e9e0e73",
   "metadata": {},
   "outputs": [],
   "source": [
    "import os\n",
    "\n",
    "os.environ[\"IR_DATASETS_HOME\"] = \"/storage/kliffeup/kliffeup/allknower_data\""
   ]
  },
  {
   "cell_type": "markdown",
   "id": "3bb10590-98ff-450a-b4d7-3e47672c8f26",
   "metadata": {},
   "source": [
    "# TREC CAR"
   ]
  },
  {
   "cell_type": "code",
   "execution_count": 9,
   "id": "65bd9b55-008c-44b5-82a6-9e7e57b3a395",
   "metadata": {},
   "outputs": [],
   "source": [
    "trec_car_dataset = ir_datasets.load(\"car/v1.5/train/fold0\")"
   ]
  },
  {
   "cell_type": "code",
   "execution_count": 10,
   "id": "ad9545ac-67ca-4bfd-b253-318677a90fdc",
   "metadata": {},
   "outputs": [
    {
     "data": {
      "text/plain": [
       "29678367"
      ]
     },
     "execution_count": 10,
     "metadata": {},
     "output_type": "execute_result"
    }
   ],
   "source": [
    "trec_car_dataset.docs_count()"
   ]
  },
  {
   "cell_type": "code",
   "execution_count": 11,
   "id": "ac8bcf9e-5292-4623-96ed-92a2d99bd5bb",
   "metadata": {},
   "outputs": [
    {
     "data": {
      "text/plain": [
       "('doc_id', 'text')"
      ]
     },
     "execution_count": 11,
     "metadata": {},
     "output_type": "execute_result"
    }
   ],
   "source": [
    "trec_car_dataset.docs_cls()._fields"
   ]
  },
  {
   "cell_type": "code",
   "execution_count": 12,
   "id": "731f9248-b82c-441c-82aa-295a89465ca5",
   "metadata": {
    "scrolled": true
   },
   "outputs": [
    {
     "name": "stdout",
     "output_type": "stream",
     "text": [
      "GenericDoc(doc_id='0000000e7e72cafb61a9f356b7dceb25c5e028db', text=\"Ukraine was one of the most dangerous places for journalists in the world during the euromaidan demonstrations and the war in Donbass. A May 2014 report from the OSCE found approximately 300 instances of perceived violent attacks on the media in Ukraine since November 2013.  78 journalists were abducted and illegally detained by various groups in 2014 - a new category of professional risk; 20 such cases happened in Donetsk in April 2014. In July 2014 a firebomb was thrown at the TV channel ''112 Ukraine''.\")\n",
      "GenericDoc(doc_id='0000005eafb11cbd7e9780161f9f0a0a6fd897cd', text=\"'''October 4'''  Missouri opened its season with a 3-0 win at Chicago, the Maroons' only loss of the season.  Notre Dame opened its season with a 40-0 win over Lombard College.  Stanford beat Occidental College 20-6, and California beat St. Mary's 17-7.  Army beat St. Louis 17-0,  Yale beat North Carolina 27-0, and Dartmouth beat Montreal's McGill University 52-0.  Alabama won at Furman 20-0.  SMU beat Trinity College 14-3\")\n",
      "GenericDoc(doc_id='000000afe1da525b3db17db77f350b187441a9ed', text='The 1913 Johannisthal Air Disaster happened close to the air field, killing all 28 passengers.The German astronaut Reinhard Furrer died on September 9, 1995 during historic flight show.')\n",
      "GenericDoc(doc_id='0000014f07ec8c3f6dc130d21cddc42da950068a', text='Stéphane Houdet successfully defended the title by defeating Shingo Kunieda 7–5, 5–7, 7–6 in the final.')\n",
      "GenericDoc(doc_id='000001ae0be1235060c10e6edc99f7791e86a04c', text='Ayscough was murdered on 29 June 1450 by an angry mob during Jack Cade’s rebellion, as he had married Henry VI and the deeply unpopular Margaret of Anjou.')\n",
      "GenericDoc(doc_id='000001bb25f259b4b12ca8ec46db1ca05256f1a4', text=\"''Limnogale mergulus'' is strictly nocturnal, spending the day in stream side burrows, only emerging at night to hunt. Nocturnal movements appear to be restricted to waterways but include movement away from burrow and diving. Radio collar tracking has shown that some individuals are known utilize stream channels as much as 1160 meters in length, while others may only patrol 500 meters. In one night a web-footed tenrec may travel 1550 meters along channel in search of food.\")\n",
      "GenericDoc(doc_id='000001e3fa9733444a285b6d3141b117655146d6', text=\"The '''South-West Conference''' is a high school athletics conference in Southwestern Connecticut. The conference comprises schools in Fairfield County, Litchfield County, and New Haven County\")\n",
      "GenericDoc(doc_id='00000435e6eaca3b8bca782c61b06f1050966eed', text='The line between Mariahütte and Wadern was closed in November 1968. The connection curve from Mariahütte to Türkismühle was closed with it. Autobahn 1 now runs on part of the former line between Primstal and Mariahütte. The station buildings of Kastel, Primstal and Krettnich were demolished. The tracks between Wadern and Büschfeld were dismantled after 30 November 1993.')\n",
      "GenericDoc(doc_id='000005df544fc7e7939ea12af6fab78fcd652a32', text=\"The New Zealand Navy uses an 85 m version of the Vard Marine Inc. OPV design referred to as the . This is a modified version of the older Irish Navy ''Róisín''-class PV80 vessels with helideck and hangar incorporated.\")\n",
      "GenericDoc(doc_id='000006d5c22f4efbb6b963ea819e976a4b28600b', text='To mark the 40th anniversary of \"Bohemian Rhapsody\", the song was released on a limited edition 12\" vinyl with the original B-side \"I\\'m In Love With My Car\" on 27 November 2015 for Record Store Day 2015. Queen also released \\'\\'A Night At The Odeon, Live At Hammersmith 75\\'\\', on CD, DVD & Blu-ray. This includes the first ever live recorded performance of \"Bohemian Rhapsody\".')\n"
     ]
    }
   ],
   "source": [
    "for doc in trec_car_dataset.docs_iter()[:10]:\n",
    "    print(doc)"
   ]
  },
  {
   "cell_type": "code",
   "execution_count": 13,
   "id": "76dd9a4b-3aa0-44b5-854e-4193eab56678",
   "metadata": {},
   "outputs": [
    {
     "name": "stdout",
     "output_type": "stream",
     "text": [
      "CarQuery(query_id='Kindertotenlieder/Text%20and%20music', text='Kindertotenlieder Text and music', title='Kindertotenlieder', headings=('Text and music',))\n",
      "CarQuery(query_id='Kindertotenlieder/Composition%20and%20premiere', text='Kindertotenlieder Composition and premiere', title='Kindertotenlieder', headings=('Composition and premiere',))\n",
      "CarQuery(query_id='Kindertotenlieder/Scoring%20and%20performance', text='Kindertotenlieder Scoring and performance', title='Kindertotenlieder', headings=('Scoring and performance',))\n",
      "CarQuery(query_id=\"Kindertotenlieder/The%20''Kindertotenlieder''%20and%20Mahler's%20life%20history\", text=\"Kindertotenlieder The ''Kindertotenlieder'' and Mahler's life history\", title='Kindertotenlieder', headings=(\"The ''Kindertotenlieder'' and Mahler's life history\",))\n",
      "CarQuery(query_id='Civilisation%20(TV%20series)/Production', text='Civilisation (TV series) Production', title='Civilisation (TV series)', headings=('Production',))\n",
      "CarQuery(query_id='Civilisation%20(TV%20series)/Reception', text='Civilisation (TV series) Reception', title='Civilisation (TV series)', headings=('Reception',))\n",
      "CarQuery(query_id='Civilisation%20(TV%20series)/Series%20outline', text='Civilisation (TV series) Series outline', title='Civilisation (TV series)', headings=('Series outline',))\n",
      "CarQuery(query_id='Civilisation%20(TV%20series)/Proposed%20BBC%20Remake', text='Civilisation (TV series) Proposed BBC Remake', title='Civilisation (TV series)', headings=('Proposed BBC Remake',))\n",
      "CarQuery(query_id='Northrop%20YB-35/Design%20and%20development', text='Northrop YB-35 Design and development', title='Northrop YB-35', headings=('Design and development',))\n",
      "CarQuery(query_id='Northrop%20YB-35/Variants', text='Northrop YB-35 Variants', title='Northrop YB-35', headings=('Variants',))\n"
     ]
    }
   ],
   "source": [
    "query_idx = -1\n",
    "\n",
    "for query in trec_car_dataset.queries_iter():\n",
    "    query_idx += 1\n",
    "    if query_idx >= 10:\n",
    "        break\n",
    "    print(query)"
   ]
  },
  {
   "cell_type": "code",
   "execution_count": 14,
   "id": "ec562b8e-f33b-4323-8156-064e19193aa5",
   "metadata": {},
   "outputs": [
    {
     "data": {
      "text/plain": [
       "467946"
      ]
     },
     "execution_count": 14,
     "metadata": {},
     "output_type": "execute_result"
    }
   ],
   "source": [
    "trec_car_dataset.queries_count()"
   ]
  },
  {
   "cell_type": "code",
   "execution_count": null,
   "id": "f8dc7199-718e-45b5-9743-798216a7e920",
   "metadata": {},
   "outputs": [],
   "source": []
  },
  {
   "cell_type": "markdown",
   "id": "7b8c5fcd-9871-438f-9789-b3f778bda0fa",
   "metadata": {},
   "source": [
    "# WikiCLIR"
   ]
  },
  {
   "cell_type": "code",
   "execution_count": 3,
   "id": "ca363106-b0fb-474c-9898-521177dcd4d5",
   "metadata": {},
   "outputs": [],
   "source": [
    "wikiclir_dataset = ir_datasets.load(\"wikiclir/en-simple\")"
   ]
  },
  {
   "cell_type": "code",
   "execution_count": 6,
   "id": "973e4d74-c2d1-4995-898d-3c52f6eda19e",
   "metadata": {},
   "outputs": [],
   "source": [
    "# # unavaiable on 27th October\n",
    "\n",
    "# for doc in wikiclir_dataset.docs_iter()[:10]:\n",
    "#     print(doc)"
   ]
  },
  {
   "cell_type": "code",
   "execution_count": 10,
   "id": "94bd5d98-11d5-4617-955b-9ccda15df406",
   "metadata": {},
   "outputs": [],
   "source": [
    "# unavaiable on 27th October\n",
    "\n",
    "# for query in wikiclir_dataset.queries_iter()[:10]:\n",
    "#     print(query)"
   ]
  },
  {
   "cell_type": "markdown",
   "id": "99c806c8-531c-42a6-bbbb-94cec36c3ae5",
   "metadata": {},
   "source": [
    "# WikIR"
   ]
  },
  {
   "cell_type": "code",
   "execution_count": 11,
   "id": "5a9312d3-e01a-47cf-80b9-9ab6a90b1171",
   "metadata": {},
   "outputs": [],
   "source": [
    "wikir_dataset = ir_datasets.load(\"wikir/en1k/validation\")"
   ]
  },
  {
   "cell_type": "code",
   "execution_count": 12,
   "id": "49626c7b-5ddc-44cb-9790-35bbc0f8e648",
   "metadata": {},
   "outputs": [
    {
     "name": "stdout",
     "output_type": "stream",
     "text": [
      "GenericDoc(doc_id='1781133', text='it was used in landing craft during world war ii and is used today in private boats and training facilities the 6 71 is an inline six cylinder diesel engine the 71 refers to the displacement in cubic inches of each cylinder the firing order of the engine is 1 5 3 6 2 4 the engine s compression ratio is 18 7 1 with a 4 250 inch bore and a 5 00 inch stroke the engine weighs and is 54 inches long 29 inches wide and 41 inches tall at 2 100 revolutions per minute the engine is capable of producing 230 horse power 172 kilowatts v type versions of the 71 series were developed in 1957 the 6 71 is a two stroke engine as the engine will not naturally aspirate air is provided via a roots type blower however on the 6 71t models a turbocharger and a supercharger are utilized fuel is provided by unit injectors one per cylinder the amount of fuel injected into the engine is controlled by the engine s governor the engine cooling is via liquid in a water jacket in a boat cool external water is pumped into the engine')\n",
      "GenericDoc(doc_id='2426736', text='after rejecting an offer from cambridge university she moved to london in 1954 working in a mayfair advertising agency while moonlighting as a hat check girl in the night club le club contemporain while working at the royal college of art she met the painter frank bowling when he was still a student there they married in 1960 and had one son kitchen was one of the women interviewed by nell dunn in talking to women 1965 after divorcing bowling in the late sixties kitchen went on to live with and later marry the writer dulan barber continuing to write novels she also began writing non fiction with biographies of patrick geddes and gerard manley hopkins in later life she bought a house in barnwell northamptonshire which became the subject of her book of the same name she died on 23 november 2005 the novelist bessie head was a close friend the pair corresponded from 1969 until head s death in 1986 on a range of subjects including head s novel a question of power')\n",
      "GenericDoc(doc_id='2224122', text='mat zan coached kuala lumpur fa in 1999 and won malaysia fa cup in 1999 and charity cup in 2000 in 2001 mat zan then move as head coach of terengganu fa and he won the 2001 malaysia cup 2001 malaysia charity cup and second place in malaysia league with plus f c in 2008 he took 2nd place in premier league and automatically promoted to malaysia super league in 2012 he comeback with terengganu fa and go through to fa cup semi finals and round two in afc cup in 2015 mat zan move to melaka united and won 2015 malaysia fam league and won 2016 malaysia premier league after his contract was not renewed with melaka at the end of 2016 he was appointed as new head coach of airasia allstars fc which was renamed as petaling jaya rangers f c for the 2017 season he signed a 1 year contract with negeri sembilan form the 2019 season mat zan also coached the club side of malaysia u 21 squad harimau muda b who won plate winner singapore starhub league cup thanj nien newspaper cup vietnam 3rd place and hassanal bolkiah cup brunei 3rd place')\n",
      "GenericDoc(doc_id='219642', text='a barcode is a machine readable optical label that contains information about the item to which it is attached in practice qr codes often contain data for a locator identifier or tracker that points to a website or application a qr code uses four standardized encoding modes numeric alphanumeric byte binary and kanji to store data efficiently extensions may also be used the quick response system became popular outside the automotive industry due to its fast readability and greater storage capacity compared to standard upc barcodes applications include product tracking item identification time tracking document management and general marketing a qr code consists of black squares arranged in a square grid on a white background which can be read by an imaging device such as a camera and processed using reed solomon error correction until the image can be appropriately interpreted the required data is then extracted from patterns that are present in both horizontal and vertical components of the image the qr code system was invented in 1994 by the japanese company denso wave its purpose was to track vehicles during manufacturing it was designed to allow high speed component scanning qr codes are now used in a much')\n",
      "GenericDoc(doc_id='1728654', text='since the subordination of the monarchy under parliament and the increasingly democratic methods of parliamentary government there have been the questions of whether parliament holds a supreme ability to legislate and whether or not it should the traditional view put forward by a v dicey is that parliament had the power to make any law except any law that bound its successors this has been reconsidered by constitutional theorists including sir william wade and trevor allan in light of the european communities act 1972 and other provisions relating to europe and the position of the human rights act 1998 and any attempts to make this or other legislation entrenched these issues remain contested parliamentary sovereignty is a description of to what extent the parliament of the united kingdom does have absolute and unlimited power it is framed in terms of the extent of authority that parliament holds and whether there are any sorts of law that it cannot pass in other countries a written constitution often binds the parliament to act in a certain way but there is no such written constitution in the united kingdom in the united kingdom parliament is central to the institutions of state the terms')\n",
      "GenericDoc(doc_id='1889917', text='the tournament brought together club champions of many domestic beach soccer leagues across europe almost in the same vein as the uefa champions league twenty teams confirmed their participation in the inaugural tournament the first beach soccer winner cup was held in the sands of san benedetto del tronto rive delle palme which located in ascoli italy from 15 19 may 2013 this cup is involving all the champions in the different official national leagues all across the old continent 18 different countries will be represented in this tournament in the first stage the eighteen champions of the officially sanctioned beach soccer national championships plus the host and the italian runner up got distributed into five groups yet offering interesting battles with powerful teams having to compete for the head of the group only the sides topping the group will be granted a ticket to the quarterfinals stage accompanied by the three best second ranked teams the stadium that was used is called the umpi smart beach arena the new state of the art facility is intended to maximize the technology and the environmental consciousness directives to create a stadium that offers 360 degree amusement possibilities both for citizens and')\n",
      "GenericDoc(doc_id='1518473', text='in january 1948 ballen acquired the interest of goode and became the sole owner he then moved the company to philadelphia pennsylvania where the label was based for the rest of its existence until 1956 the label specialized in rhythm and blues ivin ballen died in miami beach florida in february 1978 gotham s most notable contribution to american music was the release of recordings by the acoustic bluesman dan pickett originally recorded in 1949 another artist who recorded for gotham included doug quattlebaum his song lizzie lou was one of the last releases for the label doris browne was a singer who around the 1949 1950 period had she performed on a weekly show which was broadcast by wpen am in philadelphia the hour long show was called the parisian tailor kiddie hour in 1953 the label appeared to be keen to push browne s profile with her single please believe me bw oh baby she was backed by doc bagby on that recording he also backed her on her single until the end of time bw why don t you love me now now now gotham g 296 and another recording the game of love bw my cherie')\n",
      "GenericDoc(doc_id='1459418', text='it is particularly notable for its association with several of canada s leading blues singers including richard hock walsh tony flaim and chuck jackson all of whom were also associated with the downchild blues band the band is named after the cameo lounge of toronto s hotel isabella as it then was in the 1970s and 1980s the cameo lounge featured primarily local blues artists and as of 1978 had a regular house band initially led by richard hock walsh during one of several periods when walsh was either fired or quit as the lead singer of the downchild blues band walsh was soon joined by former crowbar keyboard player rabbit ray harrison who along with guitarist john bride became the core of the group during its over three decade history other initial band members included billy bryans later of the parachute club on drums and omar tunnock later of the funk and blues band fathead on bass hock walsh soon left the band to return to downchild and was briefly replaced by fraser finlayson of the band cueball prior to the band finding a replacement in tony flaim whom hock walsh had replaced in downchild billy bryans was replaced')\n",
      "GenericDoc(doc_id='1102956', text='they are also known as the wamba wamba wemba wemba bears strong similarities to woiwurrung when moravian missionaries came and started to learn a language in wembawemba territory at archibald macarthur camppbell s gannawarra station they quickly noted that the natives perceiving they were understood slipped into using another language not willing to allow this cultural conquest to enable the whitemen to learn of matters they wished to keep secret from outsiders before european settlement in the nineteenth century the wemba wemba occupied the area around the loddon river reaching northwards from kerang victoria to swan hill and including the area of the avoca river southwards towards quambatook in a northeasterly direction their territory ran up over the new south wales victorian border to boorrorban and moulamein and extended to the vicinity of barham lake boga and boora in victoria also fell within their domain the overall extension of their territory has been calculated by norman tindale to be roughly the wembawemba were registered as consisting of five hordes stone lists these hordes residing around towaninny meelool station with a name indicating they were thought to be quarrelsome lake boga gonn on the murray river called the dietjenbaluk always on')\n",
      "GenericDoc(doc_id='931408', text='they moved south to england to cannock staffordshire where they formed balaam and the angel initially the band self released a series of ep s and an album entitled sun family via their own chapter 22 label and played some tour dates opening for the cult this caught the attention of virgin records who signed them and released their debut album the greatest story ever told it peaked at no 67 in the uk albums chart in august 1986 they toured in the united states with the mission kiss and label mate iggy pop a second guitarist and the first non sibling ian mckean of twenty flight rockers was added to the band in 1988 the band began to move away from gothic rock music styles into a sound that had more in common with hard rock with their new found style they recorded the album live free or die this was soon followed up in similar style when they recorded days of madness before leaving virgin records their song i ll show you something special appeared on the soundtrack for the film planes trains and automobiles their presence was largely ignored by the time that their 1993 album prime')\n"
     ]
    }
   ],
   "source": [
    "for doc in wikir_dataset.docs_iter()[:10]:\n",
    "    print(doc)"
   ]
  },
  {
   "cell_type": "code",
   "execution_count": 13,
   "id": "e75a9614-a0e3-4e46-8873-08b5cd3530fe",
   "metadata": {},
   "outputs": [
    {
     "name": "stdout",
     "output_type": "stream",
     "text": [
      "GenericQuery(query_id='1402535', text='irish sea')\n",
      "GenericQuery(query_id='91198', text='phillips exeter academy')\n",
      "GenericQuery(query_id='1015979', text='president of chile')\n",
      "GenericQuery(query_id='111134', text='university of kentucky')\n",
      "GenericQuery(query_id='201459', text='johnnie to')\n",
      "GenericQuery(query_id='12823', text='togo')\n",
      "GenericQuery(query_id='73083', text='the temptations')\n",
      "GenericQuery(query_id='21040', text='leonard nimoy')\n",
      "GenericQuery(query_id='626467', text='polish resistance movement in world war ii')\n",
      "GenericQuery(query_id='8858', text='north america')\n"
     ]
    }
   ],
   "source": [
    "query_idx = -1\n",
    "\n",
    "for query in wikir_dataset.queries_iter():\n",
    "    query_idx += 1\n",
    "    if query_idx >= 10:\n",
    "        break\n",
    "    print(query)"
   ]
  }
 ],
 "metadata": {
  "kernelspec": {
   "display_name": "Python 3 (ipykernel)",
   "language": "python",
   "name": "python3"
  },
  "language_info": {
   "codemirror_mode": {
    "name": "ipython",
    "version": 3
   },
   "file_extension": ".py",
   "mimetype": "text/x-python",
   "name": "python",
   "nbconvert_exporter": "python",
   "pygments_lexer": "ipython3",
   "version": "3.12.5"
  }
 },
 "nbformat": 4,
 "nbformat_minor": 5
}
